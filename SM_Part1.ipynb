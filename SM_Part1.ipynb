{
 "cells": [
  {
   "cell_type": "markdown",
   "metadata": {},
   "source": [
    "# STOCK MARKET PART 1 - VISUALIZATION OF INDIVIDUAL STOCKS"
   ]
  },
  {
   "cell_type": "markdown",
   "metadata": {},
   "source": [
    "# DATA COLLECTION AND TRANSFORMATION -  using GOOGLE FINANCE"
   ]
  },
  {
   "cell_type": "code",
   "execution_count": 67,
   "metadata": {
    "collapsed": true
   },
   "outputs": [],
   "source": [
    "from pandas_datareader import data, wb\n",
    "import pandas as pd\n",
    "import numpy as np\n",
    "import datetime\n",
    "%matplotlib inline"
   ]
  },
  {
   "cell_type": "code",
   "execution_count": 68,
   "metadata": {
    "collapsed": true
   },
   "outputs": [],
   "source": [
    "start = datetime.datetime(2006, 1, 1)\n",
    "end = datetime.datetime(2017, 1, 1)"
   ]
  },
  {
   "cell_type": "code",
   "execution_count": 117,
   "metadata": {
    "collapsed": true
   },
   "outputs": [],
   "source": [
    "from pandas_datareader.google.daily import GoogleDailyReader\n",
    "\n",
    "@property\n",
    "def url(self):\n",
    "    return 'http://finance.google.com/finance/historical'\n",
    "\n",
    "GoogleDailyReader.url = url\n",
    "\n",
    "BOFA = data.get_data_google(\"BAC\", start, end)\n",
    "\n",
    "Citi= data.get_data_google(\"C\",start, end)\n",
    "\n",
    "\n",
    "GOld = data.get_data_google(\"GS\", start, end)\n",
    "\n",
    "\n",
    "JP = data.get_data_google(\"JPM\", start, end)\n",
    "\n",
    "AP=data.get_data_google(\"AAPL\",start,end)\n",
    "\n",
    "MS=data.get_data_google(\"MSFT\",start,end)"
   ]
  },
  {
   "cell_type": "code",
   "execution_count": 118,
   "metadata": {
    "collapsed": true
   },
   "outputs": [],
   "source": [
    "tckr_LIST = ['BAC', 'C', 'GS', 'JPM','APPL','MSFT']"
   ]
  },
  {
   "cell_type": "code",
   "execution_count": 120,
   "metadata": {
    "collapsed": true
   },
   "outputs": [],
   "source": [
    "Stocks = pd.concat([BOFA, Citi, GOld, JP, AP,MS],axis=1,keys=tckr_LIST)"
   ]
  },
  {
   "cell_type": "code",
   "execution_count": 121,
   "metadata": {
    "collapsed": true
   },
   "outputs": [],
   "source": [
    "Stocks.columns.names = ['Ticker','Company Stock Info']"
   ]
  },
  {
   "cell_type": "code",
   "execution_count": 122,
   "metadata": {},
   "outputs": [
    {
     "data": {
      "text/html": [
       "<div>\n",
       "<style scoped>\n",
       "    .dataframe tbody tr th:only-of-type {\n",
       "        vertical-align: middle;\n",
       "    }\n",
       "\n",
       "    .dataframe tbody tr th {\n",
       "        vertical-align: top;\n",
       "    }\n",
       "\n",
       "    .dataframe thead tr th {\n",
       "        text-align: left;\n",
       "    }\n",
       "\n",
       "    .dataframe thead tr:last-of-type th {\n",
       "        text-align: right;\n",
       "    }\n",
       "</style>\n",
       "<table border=\"1\" class=\"dataframe\">\n",
       "  <thead>\n",
       "    <tr>\n",
       "      <th>Ticker</th>\n",
       "      <th colspan=\"5\" halign=\"left\">BAC</th>\n",
       "      <th colspan=\"5\" halign=\"left\">C</th>\n",
       "      <th>...</th>\n",
       "      <th colspan=\"5\" halign=\"left\">APPL</th>\n",
       "      <th colspan=\"5\" halign=\"left\">MSFT</th>\n",
       "    </tr>\n",
       "    <tr>\n",
       "      <th>Company Stock Info</th>\n",
       "      <th>Open</th>\n",
       "      <th>High</th>\n",
       "      <th>Low</th>\n",
       "      <th>Close</th>\n",
       "      <th>Volume</th>\n",
       "      <th>Open</th>\n",
       "      <th>High</th>\n",
       "      <th>Low</th>\n",
       "      <th>Close</th>\n",
       "      <th>Volume</th>\n",
       "      <th>...</th>\n",
       "      <th>Open</th>\n",
       "      <th>High</th>\n",
       "      <th>Low</th>\n",
       "      <th>Close</th>\n",
       "      <th>Volume</th>\n",
       "      <th>Open</th>\n",
       "      <th>High</th>\n",
       "      <th>Low</th>\n",
       "      <th>Close</th>\n",
       "      <th>Volume</th>\n",
       "    </tr>\n",
       "    <tr>\n",
       "      <th>Date</th>\n",
       "      <th></th>\n",
       "      <th></th>\n",
       "      <th></th>\n",
       "      <th></th>\n",
       "      <th></th>\n",
       "      <th></th>\n",
       "      <th></th>\n",
       "      <th></th>\n",
       "      <th></th>\n",
       "      <th></th>\n",
       "      <th></th>\n",
       "      <th></th>\n",
       "      <th></th>\n",
       "      <th></th>\n",
       "      <th></th>\n",
       "      <th></th>\n",
       "      <th></th>\n",
       "      <th></th>\n",
       "      <th></th>\n",
       "      <th></th>\n",
       "      <th></th>\n",
       "    </tr>\n",
       "  </thead>\n",
       "  <tbody>\n",
       "    <tr>\n",
       "      <th>2006-01-03</th>\n",
       "      <td>46.92</td>\n",
       "      <td>47.18</td>\n",
       "      <td>46.15</td>\n",
       "      <td>47.08</td>\n",
       "      <td>16296700</td>\n",
       "      <td>490.0</td>\n",
       "      <td>493.8</td>\n",
       "      <td>481.1</td>\n",
       "      <td>492.9</td>\n",
       "      <td>1537660</td>\n",
       "      <td>...</td>\n",
       "      <td>10.34</td>\n",
       "      <td>10.68</td>\n",
       "      <td>10.32</td>\n",
       "      <td>10.68</td>\n",
       "      <td>201853036.0</td>\n",
       "      <td>26.25</td>\n",
       "      <td>27.00</td>\n",
       "      <td>26.10</td>\n",
       "      <td>26.84</td>\n",
       "      <td>79974418.0</td>\n",
       "    </tr>\n",
       "    <tr>\n",
       "      <th>2006-01-04</th>\n",
       "      <td>47.00</td>\n",
       "      <td>47.24</td>\n",
       "      <td>46.45</td>\n",
       "      <td>46.58</td>\n",
       "      <td>17757900</td>\n",
       "      <td>488.6</td>\n",
       "      <td>491.0</td>\n",
       "      <td>483.5</td>\n",
       "      <td>483.8</td>\n",
       "      <td>1871020</td>\n",
       "      <td>...</td>\n",
       "      <td>10.73</td>\n",
       "      <td>10.85</td>\n",
       "      <td>10.64</td>\n",
       "      <td>10.71</td>\n",
       "      <td>155225609.0</td>\n",
       "      <td>26.77</td>\n",
       "      <td>27.08</td>\n",
       "      <td>26.77</td>\n",
       "      <td>26.97</td>\n",
       "      <td>57975661.0</td>\n",
       "    </tr>\n",
       "    <tr>\n",
       "      <th>2006-01-05</th>\n",
       "      <td>46.58</td>\n",
       "      <td>46.83</td>\n",
       "      <td>46.32</td>\n",
       "      <td>46.64</td>\n",
       "      <td>14970900</td>\n",
       "      <td>484.4</td>\n",
       "      <td>487.8</td>\n",
       "      <td>484.0</td>\n",
       "      <td>486.2</td>\n",
       "      <td>1143160</td>\n",
       "      <td>...</td>\n",
       "      <td>10.69</td>\n",
       "      <td>10.70</td>\n",
       "      <td>10.54</td>\n",
       "      <td>10.63</td>\n",
       "      <td>112396081.0</td>\n",
       "      <td>26.96</td>\n",
       "      <td>27.13</td>\n",
       "      <td>26.91</td>\n",
       "      <td>26.99</td>\n",
       "      <td>48247610.0</td>\n",
       "    </tr>\n",
       "    <tr>\n",
       "      <th>2006-01-06</th>\n",
       "      <td>46.80</td>\n",
       "      <td>46.91</td>\n",
       "      <td>46.35</td>\n",
       "      <td>46.57</td>\n",
       "      <td>12599800</td>\n",
       "      <td>488.8</td>\n",
       "      <td>489.0</td>\n",
       "      <td>482.0</td>\n",
       "      <td>486.2</td>\n",
       "      <td>1370250</td>\n",
       "      <td>...</td>\n",
       "      <td>10.75</td>\n",
       "      <td>10.96</td>\n",
       "      <td>10.65</td>\n",
       "      <td>10.90</td>\n",
       "      <td>176139334.0</td>\n",
       "      <td>26.89</td>\n",
       "      <td>27.00</td>\n",
       "      <td>26.49</td>\n",
       "      <td>26.91</td>\n",
       "      <td>100969092.0</td>\n",
       "    </tr>\n",
       "    <tr>\n",
       "      <th>2006-01-09</th>\n",
       "      <td>46.72</td>\n",
       "      <td>46.97</td>\n",
       "      <td>46.36</td>\n",
       "      <td>46.60</td>\n",
       "      <td>15620000</td>\n",
       "      <td>486.0</td>\n",
       "      <td>487.4</td>\n",
       "      <td>483.0</td>\n",
       "      <td>483.9</td>\n",
       "      <td>1680740</td>\n",
       "      <td>...</td>\n",
       "      <td>10.96</td>\n",
       "      <td>11.03</td>\n",
       "      <td>10.82</td>\n",
       "      <td>10.86</td>\n",
       "      <td>168861224.0</td>\n",
       "      <td>26.93</td>\n",
       "      <td>27.07</td>\n",
       "      <td>26.76</td>\n",
       "      <td>26.86</td>\n",
       "      <td>55627836.0</td>\n",
       "    </tr>\n",
       "  </tbody>\n",
       "</table>\n",
       "<p>5 rows × 30 columns</p>\n",
       "</div>"
      ],
      "text/plain": [
       "Ticker                BAC                                     C                \\\n",
       "Company Stock Info   Open   High    Low  Close    Volume   Open   High    Low   \n",
       "Date                                                                            \n",
       "2006-01-03          46.92  47.18  46.15  47.08  16296700  490.0  493.8  481.1   \n",
       "2006-01-04          47.00  47.24  46.45  46.58  17757900  488.6  491.0  483.5   \n",
       "2006-01-05          46.58  46.83  46.32  46.64  14970900  484.4  487.8  484.0   \n",
       "2006-01-06          46.80  46.91  46.35  46.57  12599800  488.8  489.0  482.0   \n",
       "2006-01-09          46.72  46.97  46.36  46.60  15620000  486.0  487.4  483.0   \n",
       "\n",
       "Ticker                                 ...        APPL                       \\\n",
       "Company Stock Info  Close   Volume     ...        Open   High    Low  Close   \n",
       "Date                                   ...                                    \n",
       "2006-01-03          492.9  1537660     ...       10.34  10.68  10.32  10.68   \n",
       "2006-01-04          483.8  1871020     ...       10.73  10.85  10.64  10.71   \n",
       "2006-01-05          486.2  1143160     ...       10.69  10.70  10.54  10.63   \n",
       "2006-01-06          486.2  1370250     ...       10.75  10.96  10.65  10.90   \n",
       "2006-01-09          483.9  1680740     ...       10.96  11.03  10.82  10.86   \n",
       "\n",
       "Ticker                            MSFT                                    \n",
       "Company Stock Info       Volume   Open   High    Low  Close       Volume  \n",
       "Date                                                                      \n",
       "2006-01-03          201853036.0  26.25  27.00  26.10  26.84   79974418.0  \n",
       "2006-01-04          155225609.0  26.77  27.08  26.77  26.97   57975661.0  \n",
       "2006-01-05          112396081.0  26.96  27.13  26.91  26.99   48247610.0  \n",
       "2006-01-06          176139334.0  26.89  27.00  26.49  26.91  100969092.0  \n",
       "2006-01-09          168861224.0  26.93  27.07  26.76  26.86   55627836.0  \n",
       "\n",
       "[5 rows x 30 columns]"
      ]
     },
     "execution_count": 122,
     "metadata": {},
     "output_type": "execute_result"
    }
   ],
   "source": [
    "\n",
    "Stocks.head()"
   ]
  },
  {
   "cell_type": "markdown",
   "metadata": {},
   "source": [
    "# DATA VISUALIZATION AND ANALYSIS"
   ]
  },
  {
   "cell_type": "code",
   "execution_count": 134,
   "metadata": {},
   "outputs": [
    {
     "data": {
      "text/plain": [
       "<matplotlib.legend.Legend at 0x1ea0e4cb6d8>"
      ]
     },
     "execution_count": 134,
     "metadata": {},
     "output_type": "execute_result"
    },
    {
     "data": {
      "image/png": "[encoded data removed]",
      "text/plain": [
       "<matplotlib.figure.Figure at 0x1ea0e2a57b8>"
      ]
     },
     "metadata": {},
     "output_type": "display_data"
    }
   ],
   "source": [
    "import matplotlib.pyplot as plt\n",
    "import seaborn as sns\n",
    "sns.set_style('whitegrid')\n",
    "%matplotlib inline\n",
    "\n",
    "for tick in tckr_LIST:\n",
    "    Stocks[tick]['Close'].plot(figsize=(12,4),label=tick)\n",
    "plt.legend()"
   ]
  },
  {
   "cell_type": "markdown",
   "metadata": {},
   "source": [
    "We See a sharp fall in the Stocks of citi bank in 2009 as compared to a stable market. This sharp fall was due to the recession and as banking was the worst affected sector we see banking stocks dipping to all time lows."
   ]
  },
  {
   "cell_type": "code",
   "execution_count": 138,
   "metadata": {},
   "outputs": [
    {
     "data": {
      "image/png": "[encoded data removed]",
      "text/plain": [
       "<matplotlib.figure.Figure at 0x1ea0f658e48>"
      ]
     },
     "metadata": {},
     "output_type": "display_data"
    }
   ],
   "source": [
    "companyList = ['APPL','MSFT']\n",
    "for company in companyList:\n",
    "    Stocks[company]['Close'].plot(label=company,figsize=(14,5))\n",
    "plt.legend()\n",
    "plt.show()"
   ]
  },
  {
   "cell_type": "markdown",
   "metadata": {},
   "source": [
    "Apple appointed Steve jobs back as CEO in the year 2010 and thats when the stocks started to rise and Iphone 4 took the market by storm with apple selling 14.1 million in Q3 of 2010 #source-Wikipedia"
   ]
  },
  {
   "cell_type": "code",
   "execution_count": 123,
   "metadata": {},
   "outputs": [
    {
     "data": {
      "text/plain": [
       "Ticker\n",
       "BAC      54.90\n",
       "C       564.10\n",
       "GS      247.92\n",
       "JPM      87.13\n",
       "APPL    133.00\n",
       "MSFT     63.62\n",
       "dtype: float64"
      ]
     },
     "execution_count": 123,
     "metadata": {},
     "output_type": "execute_result"
    }
   ],
   "source": [
    "Stocks.xs(key='Close',axis=1,level='Company Stock Info').max()"
   ]
  },
  {
   "cell_type": "markdown",
   "metadata": {},
   "source": [
    "#CALCULATING DAILY RETURNS ON THE STOCKS"
   ]
  },
  {
   "cell_type": "code",
   "execution_count": 124,
   "metadata": {
    "collapsed": true
   },
   "outputs": [],
   "source": [
    "StockReturns = pd.DataFrame()"
   ]
  },
  {
   "cell_type": "code",
   "execution_count": 126,
   "metadata": {},
   "outputs": [
    {
     "data": {
      "text/html": [
       "<div>\n",
       "<style scoped>\n",
       "    .dataframe tbody tr th:only-of-type {\n",
       "        vertical-align: middle;\n",
       "    }\n",
       "\n",
       "    .dataframe tbody tr th {\n",
       "        vertical-align: top;\n",
       "    }\n",
       "\n",
       "    .dataframe thead th {\n",
       "        text-align: right;\n",
       "    }\n",
       "</style>\n",
       "<table border=\"1\" class=\"dataframe\">\n",
       "  <thead>\n",
       "    <tr style=\"text-align: right;\">\n",
       "      <th></th>\n",
       "      <th>BAC Return</th>\n",
       "      <th>C Return</th>\n",
       "      <th>GS Return</th>\n",
       "      <th>JPM Return</th>\n",
       "      <th>APPL Return</th>\n",
       "      <th>MSFT Return</th>\n",
       "    </tr>\n",
       "    <tr>\n",
       "      <th>Date</th>\n",
       "      <th></th>\n",
       "      <th></th>\n",
       "      <th></th>\n",
       "      <th></th>\n",
       "      <th></th>\n",
       "      <th></th>\n",
       "    </tr>\n",
       "  </thead>\n",
       "  <tbody>\n",
       "    <tr>\n",
       "      <th>2006-01-03</th>\n",
       "      <td>NaN</td>\n",
       "      <td>NaN</td>\n",
       "      <td>NaN</td>\n",
       "      <td>NaN</td>\n",
       "      <td>NaN</td>\n",
       "      <td>NaN</td>\n",
       "    </tr>\n",
       "    <tr>\n",
       "      <th>2006-01-04</th>\n",
       "      <td>-0.010620</td>\n",
       "      <td>-0.018462</td>\n",
       "      <td>-0.013812</td>\n",
       "      <td>-0.014183</td>\n",
       "      <td>0.002809</td>\n",
       "      <td>0.004844</td>\n",
       "    </tr>\n",
       "    <tr>\n",
       "      <th>2006-01-05</th>\n",
       "      <td>0.001288</td>\n",
       "      <td>0.004961</td>\n",
       "      <td>-0.000393</td>\n",
       "      <td>0.003029</td>\n",
       "      <td>-0.007470</td>\n",
       "      <td>0.000742</td>\n",
       "    </tr>\n",
       "    <tr>\n",
       "      <th>2006-01-06</th>\n",
       "      <td>-0.001501</td>\n",
       "      <td>0.000000</td>\n",
       "      <td>0.014169</td>\n",
       "      <td>0.007046</td>\n",
       "      <td>0.025400</td>\n",
       "      <td>-0.002964</td>\n",
       "    </tr>\n",
       "    <tr>\n",
       "      <th>2006-01-09</th>\n",
       "      <td>0.000644</td>\n",
       "      <td>-0.004731</td>\n",
       "      <td>0.012030</td>\n",
       "      <td>0.016242</td>\n",
       "      <td>-0.003670</td>\n",
       "      <td>-0.001858</td>\n",
       "    </tr>\n",
       "  </tbody>\n",
       "</table>\n",
       "</div>"
      ],
      "text/plain": [
       "            BAC Return  C Return  GS Return  JPM Return  APPL Return  \\\n",
       "Date                                                                   \n",
       "2006-01-03         NaN       NaN        NaN         NaN          NaN   \n",
       "2006-01-04   -0.010620 -0.018462  -0.013812   -0.014183     0.002809   \n",
       "2006-01-05    0.001288  0.004961  -0.000393    0.003029    -0.007470   \n",
       "2006-01-06   -0.001501  0.000000   0.014169    0.007046     0.025400   \n",
       "2006-01-09    0.000644 -0.004731   0.012030    0.016242    -0.003670   \n",
       "\n",
       "            MSFT Return  \n",
       "Date                     \n",
       "2006-01-03          NaN  \n",
       "2006-01-04     0.004844  \n",
       "2006-01-05     0.000742  \n",
       "2006-01-06    -0.002964  \n",
       "2006-01-09    -0.001858  "
      ]
     },
     "execution_count": 126,
     "metadata": {},
     "output_type": "execute_result"
    }
   ],
   "source": [
    "for tick in tckr_LIST:\n",
    "    StockReturns[tick+' Return'] = Stocks[tick]['Close'].pct_change()\n",
    "StockReturns.head()"
   ]
  },
  {
   "cell_type": "code",
   "execution_count": 128,
   "metadata": {},
   "outputs": [
    {
     "data": {
      "text/plain": [
       "BAC Return    2009-01-20\n",
       "C Return      2011-05-06\n",
       "GS Return     2009-01-20\n",
       "JPM Return    2009-01-20\n",
       "APPL Return   2008-09-29\n",
       "MSFT Return   2009-01-22\n",
       "dtype: datetime64[ns]"
      ]
     },
     "execution_count": 128,
     "metadata": {},
     "output_type": "execute_result"
    }
   ],
   "source": [
    "StockReturns.idxmin()"
   ]
  },
  {
   "cell_type": "code",
   "execution_count": 129,
   "metadata": {},
   "outputs": [
    {
     "data": {
      "text/plain": [
       "BAC Return    2009-04-09\n",
       "C Return      2011-05-09\n",
       "GS Return     2008-11-24\n",
       "JPM Return    2009-01-21\n",
       "APPL Return   2008-10-13\n",
       "MSFT Return   2008-10-13\n",
       "dtype: datetime64[ns]"
      ]
     },
     "execution_count": 129,
     "metadata": {},
     "output_type": "execute_result"
    }
   ],
   "source": [
    "StockReturns.idxmax()"
   ]
  },
  {
   "cell_type": "code",
   "execution_count": 159,
   "metadata": {},
   "outputs": [
    {
     "data": {
      "text/plain": [
       "<matplotlib.axes._subplots.AxesSubplot at 0x1ea17796748>"
      ]
     },
     "execution_count": 159,
     "metadata": {},
     "output_type": "execute_result"
    },
    {
     "data": {
      "image/png": "[encoded data removed]",
      "text/plain": [
       "<matplotlib.figure.Figure at 0x1ea18d6bac8>"
      ]
     },
     "metadata": {},
     "output_type": "display_data"
    }
   ],
   "source": [
    "sns.distplot(StockReturns.ix['2011-05-01':'2011-05-10']['C Return'],color='red',bins=10)"
   ]
  },
  {
   "cell_type": "markdown",
   "metadata": {},
   "source": [
    "we see a sudden hike in the Citi group share that was roughly 850% becuase citi did a reverse Split on that day taking the stock up"
   ]
  },
  {
   "cell_type": "code",
   "execution_count": 139,
   "metadata": {},
   "outputs": [
    {
     "data": {
      "text/plain": [
       "BAC Return     0.035470\n",
       "C Return       0.171685\n",
       "GS Return      0.024695\n",
       "JPM Return     0.026784\n",
       "APPL Return    0.021063\n",
       "MSFT Return    0.017479\n",
       "dtype: float64"
      ]
     },
     "execution_count": 139,
     "metadata": {},
     "output_type": "execute_result"
    }
   ],
   "source": [
    "StockReturns.std()"
   ]
  },
  {
   "cell_type": "code",
   "execution_count": 158,
   "metadata": {},
   "outputs": [
    {
     "data": {
      "image/png": "[encoded data removed]",
      "text/plain": [
       "<matplotlib.figure.Figure at 0x1ea150094e0>"
      ]
     },
     "metadata": {},
     "output_type": "display_data"
    }
   ],
   "source": [
    "StockReturns.std().plot(kind='bar');\n"
   ]
  },
  {
   "cell_type": "markdown",
   "metadata": {},
   "source": [
    "This Bar graph shows us that as a measure of standard deviation th Citi group share was one of the riskiest share to buy"
   ]
  }
 ],
 "metadata": {
  "kernelspec": {
   "display_name": "Python 3",
   "language": "python",
   "name": "python3"
  },
  "language_info": {
   "codemirror_mode": {
    "name": "ipython",
    "version": 3
   },
   "file_extension": ".py",
   "mimetype": "text/x-python",
   "name": "python",
   "nbconvert_exporter": "python",
   "pygments_lexer": "ipython3",
   "version": "3.6.3"
  }
 },
 "nbformat": 4,
 "nbformat_minor": 2
}
